{
 "cells": [
  {
   "cell_type": "code",
   "execution_count": 1,
   "metadata": {},
   "outputs": [],
   "source": [
    "# Importing the libraries\n",
    "import numpy as np\n",
    "import matplotlib.pyplot as plt\n",
    "import pandas as pd\n",
    "import datetime"
   ]
  },
  {
   "cell_type": "code",
   "execution_count": 2,
   "metadata": {},
   "outputs": [],
   "source": [
    "dataset = pd.read_csv('20200905_HINDUSTAN UNILEVER LTD_1day.csv',index_col=\"DisplayDate\",parse_dates=True)\n"
   ]
  },
  {
   "cell_type": "code",
   "execution_count": 3,
   "metadata": {},
   "outputs": [
    {
     "data": {
      "text/html": [
       "<div>\n",
       "<style scoped>\n",
       "    .dataframe tbody tr th:only-of-type {\n",
       "        vertical-align: middle;\n",
       "    }\n",
       "\n",
       "    .dataframe tbody tr th {\n",
       "        vertical-align: top;\n",
       "    }\n",
       "\n",
       "    .dataframe thead th {\n",
       "        text-align: right;\n",
       "    }\n",
       "</style>\n",
       "<table border=\"1\" class=\"dataframe\">\n",
       "  <thead>\n",
       "    <tr style=\"text-align: right;\">\n",
       "      <th></th>\n",
       "      <th>Open</th>\n",
       "      <th>High</th>\n",
       "      <th>Low</th>\n",
       "      <th>Close</th>\n",
       "      <th>Volume</th>\n",
       "      <th>OI</th>\n",
       "    </tr>\n",
       "    <tr>\n",
       "      <th>DisplayDate</th>\n",
       "      <th></th>\n",
       "      <th></th>\n",
       "      <th></th>\n",
       "      <th></th>\n",
       "      <th></th>\n",
       "      <th></th>\n",
       "    </tr>\n",
       "  </thead>\n",
       "  <tbody>\n",
       "    <tr>\n",
       "      <th>2020-09-04</th>\n",
       "      <td>2115.00</td>\n",
       "      <td>2139.05</td>\n",
       "      <td>2115.00</td>\n",
       "      <td>2131.00</td>\n",
       "      <td>1619906</td>\n",
       "      <td>0</td>\n",
       "    </tr>\n",
       "    <tr>\n",
       "      <th>2020-09-03</th>\n",
       "      <td>2153.00</td>\n",
       "      <td>2154.45</td>\n",
       "      <td>2128.05</td>\n",
       "      <td>2139.15</td>\n",
       "      <td>1590711</td>\n",
       "      <td>0</td>\n",
       "    </tr>\n",
       "    <tr>\n",
       "      <th>2020-09-02</th>\n",
       "      <td>2171.00</td>\n",
       "      <td>2185.00</td>\n",
       "      <td>2136.55</td>\n",
       "      <td>2141.65</td>\n",
       "      <td>1667810</td>\n",
       "      <td>0</td>\n",
       "    </tr>\n",
       "    <tr>\n",
       "      <th>2020-09-01</th>\n",
       "      <td>2149.95</td>\n",
       "      <td>2174.90</td>\n",
       "      <td>2111.75</td>\n",
       "      <td>2161.65</td>\n",
       "      <td>1738013</td>\n",
       "      <td>0</td>\n",
       "    </tr>\n",
       "    <tr>\n",
       "      <th>2020-08-31</th>\n",
       "      <td>2152.00</td>\n",
       "      <td>2167.50</td>\n",
       "      <td>2100.65</td>\n",
       "      <td>2117.35</td>\n",
       "      <td>3534525</td>\n",
       "      <td>0</td>\n",
       "    </tr>\n",
       "  </tbody>\n",
       "</table>\n",
       "</div>"
      ],
      "text/plain": [
       "                Open     High      Low    Close   Volume  OI\n",
       "DisplayDate                                                 \n",
       "2020-09-04   2115.00  2139.05  2115.00  2131.00  1619906   0\n",
       "2020-09-03   2153.00  2154.45  2128.05  2139.15  1590711   0\n",
       "2020-09-02   2171.00  2185.00  2136.55  2141.65  1667810   0\n",
       "2020-09-01   2149.95  2174.90  2111.75  2161.65  1738013   0\n",
       "2020-08-31   2152.00  2167.50  2100.65  2117.35  3534525   0"
      ]
     },
     "execution_count": 3,
     "metadata": {},
     "output_type": "execute_result"
    }
   ],
   "source": [
    "dataset.head()\n"
   ]
  },
  {
   "cell_type": "code",
   "execution_count": 4,
   "metadata": {},
   "outputs": [
    {
     "data": {
      "text/plain": [
       "Open      False\n",
       "High      False\n",
       "Low       False\n",
       "Close     False\n",
       "Volume    False\n",
       "OI        False\n",
       "dtype: bool"
      ]
     },
     "execution_count": 4,
     "metadata": {},
     "output_type": "execute_result"
    }
   ],
   "source": [
    "dataset.isna().any()"
   ]
  },
  {
   "cell_type": "code",
   "execution_count": 5,
   "metadata": {},
   "outputs": [
    {
     "name": "stdout",
     "output_type": "stream",
     "text": [
      "<class 'pandas.core.frame.DataFrame'>\n",
      "DatetimeIndex: 2649 entries, 2020-09-04 to 2010-01-04\n",
      "Data columns (total 6 columns):\n",
      " #   Column  Non-Null Count  Dtype  \n",
      "---  ------  --------------  -----  \n",
      " 0   Open    2649 non-null   float64\n",
      " 1   High    2649 non-null   float64\n",
      " 2   Low     2649 non-null   float64\n",
      " 3   Close   2649 non-null   float64\n",
      " 4   Volume  2649 non-null   int64  \n",
      " 5   OI      2649 non-null   int64  \n",
      "dtypes: float64(4), int64(2)\n",
      "memory usage: 144.9 KB\n"
     ]
    }
   ],
   "source": [
    "dataset.info()"
   ]
  },
  {
   "cell_type": "code",
   "execution_count": 6,
   "metadata": {},
   "outputs": [
    {
     "data": {
      "text/plain": [
       "<matplotlib.axes._subplots.AxesSubplot at 0x26ce2294340>"
      ]
     },
     "execution_count": 6,
     "metadata": {},
     "output_type": "execute_result"
    },
    {
     "data": {
      "image/png": "[encoded data removed]",
      "text/plain": [
       "<Figure size 1152x432 with 1 Axes>"
      ]
     },
     "metadata": {
      "needs_background": "light"
     },
     "output_type": "display_data"
    }
   ],
   "source": [
    "dataset['Open'].plot(figsize=(16,6))"
   ]
  },
  {
   "cell_type": "code",
   "execution_count": 7,
   "metadata": {},
   "outputs": [
    {
     "data": {
      "text/html": [
       "<div>\n",
       "<style scoped>\n",
       "    .dataframe tbody tr th:only-of-type {\n",
       "        vertical-align: middle;\n",
       "    }\n",
       "\n",
       "    .dataframe tbody tr th {\n",
       "        vertical-align: top;\n",
       "    }\n",
       "\n",
       "    .dataframe thead th {\n",
       "        text-align: right;\n",
       "    }\n",
       "</style>\n",
       "<table border=\"1\" class=\"dataframe\">\n",
       "  <thead>\n",
       "    <tr style=\"text-align: right;\">\n",
       "      <th></th>\n",
       "      <th>Open</th>\n",
       "      <th>High</th>\n",
       "      <th>Low</th>\n",
       "      <th>Close</th>\n",
       "      <th>Volume</th>\n",
       "      <th>OI</th>\n",
       "    </tr>\n",
       "    <tr>\n",
       "      <th>DisplayDate</th>\n",
       "      <th></th>\n",
       "      <th></th>\n",
       "      <th></th>\n",
       "      <th></th>\n",
       "      <th></th>\n",
       "      <th></th>\n",
       "    </tr>\n",
       "  </thead>\n",
       "  <tbody>\n",
       "    <tr>\n",
       "      <th>2020-09-04</th>\n",
       "      <td>NaN</td>\n",
       "      <td>NaN</td>\n",
       "      <td>NaN</td>\n",
       "      <td>NaN</td>\n",
       "      <td>NaN</td>\n",
       "      <td>NaN</td>\n",
       "    </tr>\n",
       "    <tr>\n",
       "      <th>2020-09-03</th>\n",
       "      <td>NaN</td>\n",
       "      <td>NaN</td>\n",
       "      <td>NaN</td>\n",
       "      <td>NaN</td>\n",
       "      <td>NaN</td>\n",
       "      <td>NaN</td>\n",
       "    </tr>\n",
       "    <tr>\n",
       "      <th>2020-09-02</th>\n",
       "      <td>NaN</td>\n",
       "      <td>NaN</td>\n",
       "      <td>NaN</td>\n",
       "      <td>NaN</td>\n",
       "      <td>NaN</td>\n",
       "      <td>NaN</td>\n",
       "    </tr>\n",
       "    <tr>\n",
       "      <th>2020-09-01</th>\n",
       "      <td>NaN</td>\n",
       "      <td>NaN</td>\n",
       "      <td>NaN</td>\n",
       "      <td>NaN</td>\n",
       "      <td>NaN</td>\n",
       "      <td>NaN</td>\n",
       "    </tr>\n",
       "    <tr>\n",
       "      <th>2020-08-31</th>\n",
       "      <td>NaN</td>\n",
       "      <td>NaN</td>\n",
       "      <td>NaN</td>\n",
       "      <td>NaN</td>\n",
       "      <td>NaN</td>\n",
       "      <td>NaN</td>\n",
       "    </tr>\n",
       "    <tr>\n",
       "      <th>2020-08-28</th>\n",
       "      <td>NaN</td>\n",
       "      <td>NaN</td>\n",
       "      <td>NaN</td>\n",
       "      <td>NaN</td>\n",
       "      <td>NaN</td>\n",
       "      <td>NaN</td>\n",
       "    </tr>\n",
       "    <tr>\n",
       "      <th>2020-08-27</th>\n",
       "      <td>2157.435714</td>\n",
       "      <td>2170.185714</td>\n",
       "      <td>2128.857143</td>\n",
       "      <td>2144.857143</td>\n",
       "      <td>2.037584e+06</td>\n",
       "      <td>0.0</td>\n",
       "    </tr>\n",
       "    <tr>\n",
       "      <th>2020-08-26</th>\n",
       "      <td>2167.021429</td>\n",
       "      <td>2176.892857</td>\n",
       "      <td>2135.285714</td>\n",
       "      <td>2152.257143</td>\n",
       "      <td>2.113062e+06</td>\n",
       "      <td>0.0</td>\n",
       "    </tr>\n",
       "    <tr>\n",
       "      <th>2020-08-25</th>\n",
       "      <td>2172.935714</td>\n",
       "      <td>2183.100000</td>\n",
       "      <td>2141.992857</td>\n",
       "      <td>2157.964286</td>\n",
       "      <td>2.139372e+06</td>\n",
       "      <td>0.0</td>\n",
       "    </tr>\n",
       "    <tr>\n",
       "      <th>2020-08-24</th>\n",
       "      <td>2177.935714</td>\n",
       "      <td>2186.907143</td>\n",
       "      <td>2149.800000</td>\n",
       "      <td>2165.500000</td>\n",
       "      <td>2.139039e+06</td>\n",
       "      <td>0.0</td>\n",
       "    </tr>\n",
       "    <tr>\n",
       "      <th>2020-08-21</th>\n",
       "      <td>2184.942857</td>\n",
       "      <td>2191.735714</td>\n",
       "      <td>2160.614286</td>\n",
       "      <td>2171.271429</td>\n",
       "      <td>2.087096e+06</td>\n",
       "      <td>0.0</td>\n",
       "    </tr>\n",
       "    <tr>\n",
       "      <th>2020-08-20</th>\n",
       "      <td>2189.800000</td>\n",
       "      <td>2196.064286</td>\n",
       "      <td>2171.400000</td>\n",
       "      <td>2181.035714</td>\n",
       "      <td>1.834869e+06</td>\n",
       "      <td>0.0</td>\n",
       "    </tr>\n",
       "    <tr>\n",
       "      <th>2020-08-19</th>\n",
       "      <td>2193.657143</td>\n",
       "      <td>2201.650000</td>\n",
       "      <td>2177.828571</td>\n",
       "      <td>2186.985714</td>\n",
       "      <td>1.784195e+06</td>\n",
       "      <td>0.0</td>\n",
       "    </tr>\n",
       "    <tr>\n",
       "      <th>2020-08-18</th>\n",
       "      <td>2196.785714</td>\n",
       "      <td>2205.764286</td>\n",
       "      <td>2181.257143</td>\n",
       "      <td>2193.142857</td>\n",
       "      <td>1.665156e+06</td>\n",
       "      <td>0.0</td>\n",
       "    </tr>\n",
       "    <tr>\n",
       "      <th>2020-08-17</th>\n",
       "      <td>2196.628571</td>\n",
       "      <td>2208.285714</td>\n",
       "      <td>2182.457143</td>\n",
       "      <td>2195.035714</td>\n",
       "      <td>1.581061e+06</td>\n",
       "      <td>0.0</td>\n",
       "    </tr>\n",
       "    <tr>\n",
       "      <th>2020-08-14</th>\n",
       "      <td>2198.000000</td>\n",
       "      <td>2210.871429</td>\n",
       "      <td>2181.035714</td>\n",
       "      <td>2194.292857</td>\n",
       "      <td>1.519176e+06</td>\n",
       "      <td>0.0</td>\n",
       "    </tr>\n",
       "    <tr>\n",
       "      <th>2020-08-13</th>\n",
       "      <td>2197.142857</td>\n",
       "      <td>2211.635714</td>\n",
       "      <td>2181.000000</td>\n",
       "      <td>2194.900000</td>\n",
       "      <td>1.488883e+06</td>\n",
       "      <td>0.0</td>\n",
       "    </tr>\n",
       "    <tr>\n",
       "      <th>2020-08-12</th>\n",
       "      <td>2197.292857</td>\n",
       "      <td>2211.685714</td>\n",
       "      <td>2181.364286</td>\n",
       "      <td>2193.907143</td>\n",
       "      <td>1.459747e+06</td>\n",
       "      <td>0.0</td>\n",
       "    </tr>\n",
       "    <tr>\n",
       "      <th>2020-08-11</th>\n",
       "      <td>2200.585714</td>\n",
       "      <td>2216.714286</td>\n",
       "      <td>2185.628571</td>\n",
       "      <td>2197.471429</td>\n",
       "      <td>1.444927e+06</td>\n",
       "      <td>0.0</td>\n",
       "    </tr>\n",
       "    <tr>\n",
       "      <th>2020-08-10</th>\n",
       "      <td>2202.300000</td>\n",
       "      <td>2217.464286</td>\n",
       "      <td>2186.885714</td>\n",
       "      <td>2199.350000</td>\n",
       "      <td>1.429393e+06</td>\n",
       "      <td>0.0</td>\n",
       "    </tr>\n",
       "  </tbody>\n",
       "</table>\n",
       "</div>"
      ],
      "text/plain": [
       "                    Open         High          Low        Close        Volume  \\\n",
       "DisplayDate                                                                     \n",
       "2020-09-04           NaN          NaN          NaN          NaN           NaN   \n",
       "2020-09-03           NaN          NaN          NaN          NaN           NaN   \n",
       "2020-09-02           NaN          NaN          NaN          NaN           NaN   \n",
       "2020-09-01           NaN          NaN          NaN          NaN           NaN   \n",
       "2020-08-31           NaN          NaN          NaN          NaN           NaN   \n",
       "2020-08-28           NaN          NaN          NaN          NaN           NaN   \n",
       "2020-08-27   2157.435714  2170.185714  2128.857143  2144.857143  2.037584e+06   \n",
       "2020-08-26   2167.021429  2176.892857  2135.285714  2152.257143  2.113062e+06   \n",
       "2020-08-25   2172.935714  2183.100000  2141.992857  2157.964286  2.139372e+06   \n",
       "2020-08-24   2177.935714  2186.907143  2149.800000  2165.500000  2.139039e+06   \n",
       "2020-08-21   2184.942857  2191.735714  2160.614286  2171.271429  2.087096e+06   \n",
       "2020-08-20   2189.800000  2196.064286  2171.400000  2181.035714  1.834869e+06   \n",
       "2020-08-19   2193.657143  2201.650000  2177.828571  2186.985714  1.784195e+06   \n",
       "2020-08-18   2196.785714  2205.764286  2181.257143  2193.142857  1.665156e+06   \n",
       "2020-08-17   2196.628571  2208.285714  2182.457143  2195.035714  1.581061e+06   \n",
       "2020-08-14   2198.000000  2210.871429  2181.035714  2194.292857  1.519176e+06   \n",
       "2020-08-13   2197.142857  2211.635714  2181.000000  2194.900000  1.488883e+06   \n",
       "2020-08-12   2197.292857  2211.685714  2181.364286  2193.907143  1.459747e+06   \n",
       "2020-08-11   2200.585714  2216.714286  2185.628571  2197.471429  1.444927e+06   \n",
       "2020-08-10   2202.300000  2217.464286  2186.885714  2199.350000  1.429393e+06   \n",
       "\n",
       "              OI  \n",
       "DisplayDate       \n",
       "2020-09-04   NaN  \n",
       "2020-09-03   NaN  \n",
       "2020-09-02   NaN  \n",
       "2020-09-01   NaN  \n",
       "2020-08-31   NaN  \n",
       "2020-08-28   NaN  \n",
       "2020-08-27   0.0  \n",
       "2020-08-26   0.0  \n",
       "2020-08-25   0.0  \n",
       "2020-08-24   0.0  \n",
       "2020-08-21   0.0  \n",
       "2020-08-20   0.0  \n",
       "2020-08-19   0.0  \n",
       "2020-08-18   0.0  \n",
       "2020-08-17   0.0  \n",
       "2020-08-14   0.0  \n",
       "2020-08-13   0.0  \n",
       "2020-08-12   0.0  \n",
       "2020-08-11   0.0  \n",
       "2020-08-10   0.0  "
      ]
     },
     "execution_count": 7,
     "metadata": {},
     "output_type": "execute_result"
    }
   ],
   "source": [
    "# 7 day rolling mean\n",
    "dataset.rolling(7).mean().head(20)"
   ]
  },
  {
   "cell_type": "code",
   "execution_count": 8,
   "metadata": {},
   "outputs": [
    {
     "data": {
      "text/plain": [
       "<matplotlib.axes._subplots.AxesSubplot at 0x26ce2a48280>"
      ]
     },
     "execution_count": 8,
     "metadata": {},
     "output_type": "execute_result"
    },
    {
     "data": {
      "image/png": "[encoded data removed]",
      "text/plain": [
       "<Figure size 1152x432 with 1 Axes>"
      ]
     },
     "metadata": {
      "needs_background": "light"
     },
     "output_type": "display_data"
    }
   ],
   "source": [
    "dataset['Open'].plot(figsize=(16,6))\n",
    "dataset.rolling(window=30).mean()['Close'].plot()"
   ]
  },
  {
   "cell_type": "code",
   "execution_count": 9,
   "metadata": {},
   "outputs": [
    {
     "data": {
      "text/plain": [
       "<matplotlib.axes._subplots.AxesSubplot at 0x26ce2a48fa0>"
      ]
     },
     "execution_count": 9,
     "metadata": {},
     "output_type": "execute_result"
    },
    {
     "data": {
      "image/png": "[encoded data removed]",
      "text/plain": [
       "<Figure size 1152x432 with 1 Axes>"
      ]
     },
     "metadata": {
      "needs_background": "light"
     },
     "output_type": "display_data"
    }
   ],
   "source": [
    "dataset['Close: 30 Day Mean'] = dataset['Close'].rolling(window=30).mean()\n",
    "dataset[['Close','Close: 30 Day Mean']].plot(figsize=(16,6))"
   ]
  },
  {
   "cell_type": "code",
   "execution_count": 10,
   "metadata": {},
   "outputs": [
    {
     "data": {
      "text/plain": [
       "<matplotlib.axes._subplots.AxesSubplot at 0x26ce2aeffa0>"
      ]
     },
     "execution_count": 10,
     "metadata": {},
     "output_type": "execute_result"
    },
    {
     "data": {
      "image/png": "[encoded data removed]",
      "text/plain": [
       "<Figure size 1152x432 with 1 Axes>"
      ]
     },
     "metadata": {
      "needs_background": "light"
     },
     "output_type": "display_data"
    }
   ],
   "source": [
    "# Optional specify a minimum number of periods\n",
    "dataset['Close'].expanding(min_periods=1).mean().plot(figsize=(16,6))"
   ]
  },
  {
   "cell_type": "code",
   "execution_count": 11,
   "metadata": {},
   "outputs": [],
   "source": [
    "training_set=dataset['Open']\n",
    "training_set=pd.DataFrame(training_set)\n"
   ]
  },
  {
   "cell_type": "code",
   "execution_count": 12,
   "metadata": {},
   "outputs": [],
   "source": [
    "# Feature Scaling\n",
    "from sklearn.preprocessing import MinMaxScaler\n",
    "sc = MinMaxScaler(feature_range = (0, 1))\n",
    "training_set_scaled = sc.fit_transform(training_set)"
   ]
  },
  {
   "cell_type": "code",
   "execution_count": 13,
   "metadata": {},
   "outputs": [],
   "source": [
    "# Creating a data structure with 60 timesteps and 1 output\n",
    "X_train = []\n",
    "y_train = []\n",
    "for i in range(60, 1258):\n",
    "    X_train.append(training_set_scaled[i-60:i, 0])\n",
    "    y_train.append(training_set_scaled[i, 0])\n",
    "X_train, y_train = np.array(X_train), np.array(y_train)\n",
    "\n",
    "# Reshaping\n",
    "X_train = np.reshape(X_train, (X_train.shape[0], X_train.shape[1], 1))"
   ]
  },
  {
   "cell_type": "code",
   "execution_count": 14,
   "metadata": {},
   "outputs": [],
   "source": [
    "# Part 2 - Building the RNN\n",
    "\n",
    "# Importing the Keras libraries and packages\n",
    "from keras.models import Sequential\n",
    "from keras.layers import Dense\n",
    "from keras.layers import LSTM\n",
    "from keras.layers import Dropout\n",
    "\n"
   ]
  },
  {
   "cell_type": "code",
   "execution_count": 15,
   "metadata": {},
   "outputs": [],
   "source": [
    "# Initialising the RNN\n",
    "regressor = Sequential()\n",
    "\n"
   ]
  },
  {
   "cell_type": "code",
   "execution_count": 16,
   "metadata": {},
   "outputs": [],
   "source": [
    "# Adding the first LSTM layer and some Dropout regularisation\n",
    "regressor.add(LSTM(units = 50, return_sequences = True, input_shape = (X_train.shape[1], 1)))\n",
    "regressor.add(Dropout(0.2))\n",
    "\n",
    "# Adding a second LSTM layer and some Dropout regularisation\n",
    "regressor.add(LSTM(units = 50, return_sequences = True))\n",
    "regressor.add(Dropout(0.2))\n",
    "\n",
    "# Adding a third LSTM layer and some Dropout regularisation\n",
    "regressor.add(LSTM(units = 50, return_sequences = True))\n",
    "regressor.add(Dropout(0.2))\n",
    "\n",
    "# Adding a fourth LSTM layer and some Dropout regularisation\n",
    "regressor.add(LSTM(units = 50))\n",
    "regressor.add(Dropout(0.2))\n",
    "\n",
    "# Adding the output layer\n",
    "regressor.add(Dense(units = 1))\n",
    "\n"
   ]
  },
  {
   "cell_type": "code",
   "execution_count": 17,
   "metadata": {
    "scrolled": true
   },
   "outputs": [
    {
     "name": "stdout",
     "output_type": "stream",
     "text": [
      "Epoch 1/100\n",
      "38/38 [==============================] - 6s 158ms/step - loss: 0.0336\n",
      "Epoch 2/100\n",
      "38/38 [==============================] - 4s 99ms/step - loss: 0.0042\n",
      "Epoch 3/100\n",
      "38/38 [==============================] - 4s 97ms/step - loss: 0.0043\n",
      "Epoch 4/100\n",
      "38/38 [==============================] - 4s 99ms/step - loss: 0.0036\n",
      "Epoch 5/100\n",
      "38/38 [==============================] - 4s 100ms/step - loss: 0.0040\n",
      "Epoch 6/100\n",
      "38/38 [==============================] - 4s 95ms/step - loss: 0.0034\n",
      "Epoch 7/100\n",
      "38/38 [==============================] - 4s 95ms/step - loss: 0.0037\n",
      "Epoch 8/100\n",
      "38/38 [==============================] - 4s 97ms/step - loss: 0.0035\n",
      "Epoch 9/100\n",
      "38/38 [==============================] - 4s 101ms/step - loss: 0.0032\n",
      "Epoch 10/100\n",
      "38/38 [==============================] - 4s 97ms/step - loss: 0.0039\n",
      "Epoch 11/100\n",
      "38/38 [==============================] - 4s 96ms/step - loss: 0.0037\n",
      "Epoch 12/100\n",
      "38/38 [==============================] - 4s 115ms/step - loss: 0.0031\n",
      "Epoch 13/100\n",
      "38/38 [==============================] - 5s 128ms/step - loss: 0.0031\n",
      "Epoch 14/100\n",
      "38/38 [==============================] - 5s 119ms/step - loss: 0.0033\n",
      "Epoch 15/100\n",
      "38/38 [==============================] - 4s 98ms/step - loss: 0.0032\n",
      "Epoch 16/100\n",
      "38/38 [==============================] - 4s 101ms/step - loss: 0.0030\n",
      "Epoch 17/100\n",
      "38/38 [==============================] - 4s 100ms/step - loss: 0.0024\n",
      "Epoch 18/100\n",
      "38/38 [==============================] - 4s 96ms/step - loss: 0.0026\n",
      "Epoch 19/100\n",
      "38/38 [==============================] - 4s 96ms/step - loss: 0.0030\n",
      "Epoch 20/100\n",
      "38/38 [==============================] - 4s 100ms/step - loss: 0.0028\n",
      "Epoch 21/100\n",
      "38/38 [==============================] - 4s 101ms/step - loss: 0.0023\n",
      "Epoch 22/100\n",
      "38/38 [==============================] - 4s 97ms/step - loss: 0.0028\n",
      "Epoch 23/100\n",
      "38/38 [==============================] - 4s 100ms/step - loss: 0.0024\n",
      "Epoch 24/100\n",
      "38/38 [==============================] - 4s 104ms/step - loss: 0.0022\n",
      "Epoch 25/100\n",
      "38/38 [==============================] - 4s 105ms/step - loss: 0.0023\n",
      "Epoch 26/100\n",
      "38/38 [==============================] - 4s 95ms/step - loss: 0.0024\n",
      "Epoch 27/100\n",
      "38/38 [==============================] - 4s 96ms/step - loss: 0.0024\n",
      "Epoch 28/100\n",
      "38/38 [==============================] - 4s 99ms/step - loss: 0.0024\n",
      "Epoch 29/100\n",
      "38/38 [==============================] - 4s 104ms/step - loss: 0.0019\n",
      "Epoch 30/100\n",
      "38/38 [==============================] - 4s 98ms/step - loss: 0.0021\n",
      "Epoch 31/100\n",
      "38/38 [==============================] - 4s 111ms/step - loss: 0.0022\n",
      "Epoch 32/100\n",
      "38/38 [==============================] - 5s 127ms/step - loss: 0.0020\n",
      "Epoch 33/100\n",
      "38/38 [==============================] - 4s 104ms/step - loss: 0.0019\n",
      "Epoch 34/100\n",
      "38/38 [==============================] - 4s 105ms/step - loss: 0.0020\n",
      "Epoch 35/100\n",
      "38/38 [==============================] - 4s 99ms/step - loss: 0.0019\n",
      "Epoch 36/100\n",
      "38/38 [==============================] - 4s 102ms/step - loss: 0.0018\n",
      "Epoch 37/100\n",
      "38/38 [==============================] - 4s 102ms/step - loss: 0.0020\n",
      "Epoch 38/100\n",
      "38/38 [==============================] - 4s 97ms/step - loss: 0.0026\n",
      "Epoch 39/100\n",
      "38/38 [==============================] - 4s 98ms/step - loss: 0.0018\n",
      "Epoch 40/100\n",
      "38/38 [==============================] - 4s 101ms/step - loss: 0.0020\n",
      "Epoch 41/100\n",
      "38/38 [==============================] - 4s 105ms/step - loss: 0.0017\n",
      "Epoch 42/100\n",
      "38/38 [==============================] - 4s 110ms/step - loss: 0.0018\n",
      "Epoch 43/100\n",
      "38/38 [==============================] - 4s 105ms/step - loss: 0.0020\n",
      "Epoch 44/100\n",
      "38/38 [==============================] - 4s 101ms/step - loss: 0.0015\n",
      "Epoch 45/100\n",
      "38/38 [==============================] - 4s 101ms/step - loss: 0.0016\n",
      "Epoch 46/100\n",
      "38/38 [==============================] - 4s 96ms/step - loss: 0.0017\n",
      "Epoch 47/100\n",
      "38/38 [==============================] - 4s 101ms/step - loss: 0.0016\n",
      "Epoch 48/100\n",
      "38/38 [==============================] - 4s 101ms/step - loss: 0.0017\n",
      "Epoch 49/100\n",
      "38/38 [==============================] - 4s 107ms/step - loss: 0.0015\n",
      "Epoch 50/100\n",
      "38/38 [==============================] - 4s 107ms/step - loss: 0.0016\n",
      "Epoch 51/100\n",
      "38/38 [==============================] - 4s 103ms/step - loss: 0.0015\n",
      "Epoch 52/100\n",
      "38/38 [==============================] - 4s 114ms/step - loss: 0.0017\n",
      "Epoch 53/100\n",
      "38/38 [==============================] - 5s 122ms/step - loss: 0.0014\n",
      "Epoch 54/100\n",
      "38/38 [==============================] - 4s 99ms/step - loss: 0.0014\n",
      "Epoch 55/100\n",
      "38/38 [==============================] - 4s 97ms/step - loss: 0.0013\n",
      "Epoch 56/100\n",
      "38/38 [==============================] - 4s 101ms/step - loss: 0.0014\n",
      "Epoch 57/100\n",
      "38/38 [==============================] - 4s 96ms/step - loss: 0.0015\n",
      "Epoch 58/100\n",
      "38/38 [==============================] - 4s 104ms/step - loss: 0.0016\n",
      "Epoch 59/100\n",
      "38/38 [==============================] - 4s 107ms/step - loss: 0.0013\n",
      "Epoch 60/100\n",
      "38/38 [==============================] - 4s 118ms/step - loss: 0.0013\n",
      "Epoch 61/100\n",
      "38/38 [==============================] - 5s 122ms/step - loss: 0.0013\n",
      "Epoch 62/100\n",
      "38/38 [==============================] - 4s 116ms/step - loss: 0.0011\n",
      "Epoch 63/100\n",
      "38/38 [==============================] - 4s 102ms/step - loss: 0.0012\n",
      "Epoch 64/100\n",
      "38/38 [==============================] - 4s 107ms/step - loss: 0.0014\n",
      "Epoch 65/100\n",
      "38/38 [==============================] - 4s 100ms/step - loss: 0.0013\n",
      "Epoch 66/100\n",
      "38/38 [==============================] - 4s 102ms/step - loss: 0.0012\n",
      "Epoch 67/100\n",
      "38/38 [==============================] - 5s 131ms/step - loss: 0.0012\n",
      "Epoch 68/100\n",
      "38/38 [==============================] - 4s 110ms/step - loss: 0.0011\n",
      "Epoch 69/100\n",
      "38/38 [==============================] - 4s 102ms/step - loss: 0.0011\n",
      "Epoch 70/100\n",
      "38/38 [==============================] - 4s 105ms/step - loss: 0.0012\n",
      "Epoch 71/100\n",
      "38/38 [==============================] - 4s 118ms/step - loss: 0.0012\n",
      "Epoch 72/100\n",
      "38/38 [==============================] - 4s 118ms/step - loss: 0.0012\n",
      "Epoch 73/100\n",
      "38/38 [==============================] - 5s 141ms/step - loss: 0.0012\n",
      "Epoch 74/100\n",
      "38/38 [==============================] - 5s 138ms/step - loss: 0.0012\n",
      "Epoch 75/100\n",
      "38/38 [==============================] - 6s 155ms/step - loss: 9.8098e-04\n",
      "Epoch 76/100\n",
      "38/38 [==============================] - 5s 130ms/step - loss: 0.0012\n",
      "Epoch 77/100\n",
      "38/38 [==============================] - 6s 155ms/step - loss: 0.0011 1s - loss\n",
      "Epoch 78/100\n",
      "38/38 [==============================] - 5s 122ms/step - loss: 0.0012\n",
      "Epoch 79/100\n",
      "38/38 [==============================] - 4s 103ms/step - loss: 0.0010\n",
      "Epoch 80/100\n",
      "38/38 [==============================] - 4s 100ms/step - loss: 0.0011\n",
      "Epoch 81/100\n",
      "38/38 [==============================] - 4s 106ms/step - loss: 0.0011\n",
      "Epoch 82/100\n",
      "38/38 [==============================] - 4s 104ms/step - loss: 0.0010\n",
      "Epoch 83/100\n",
      "38/38 [==============================] - 5s 122ms/step - loss: 0.0010\n",
      "Epoch 84/100\n",
      "38/38 [==============================] - 4s 114ms/step - loss: 0.0010\n",
      "Epoch 85/100\n",
      "38/38 [==============================] - 4s 117ms/step - loss: 8.8965e-04\n",
      "Epoch 86/100\n",
      "38/38 [==============================] - 4s 114ms/step - loss: 9.2655e-04\n",
      "Epoch 87/100\n",
      "38/38 [==============================] - 6s 152ms/step - loss: 0.0011\n",
      "Epoch 88/100\n",
      "38/38 [==============================] - 6s 151ms/step - loss: 9.8779e-04\n",
      "Epoch 89/100\n",
      "38/38 [==============================] - 5s 139ms/step - loss: 8.5023e-04\n",
      "Epoch 90/100\n",
      "38/38 [==============================] - 5s 120ms/step - loss: 9.9743e-04\n",
      "Epoch 91/100\n",
      "38/38 [==============================] - 5s 118ms/step - loss: 8.7205e-04\n",
      "Epoch 92/100\n",
      "38/38 [==============================] - 4s 105ms/step - loss: 9.7883e-04\n",
      "Epoch 93/100\n",
      "38/38 [==============================] - 4s 97ms/step - loss: 0.0010\n",
      "Epoch 94/100\n",
      "38/38 [==============================] - 4s 99ms/step - loss: 8.4562e-04\n",
      "Epoch 95/100\n",
      "38/38 [==============================] - 4s 106ms/step - loss: 8.9809e-04\n",
      "Epoch 96/100\n",
      "38/38 [==============================] - 4s 98ms/step - loss: 8.5509e-04\n",
      "Epoch 97/100\n",
      "38/38 [==============================] - 4s 98ms/step - loss: 8.9314e-04\n",
      "Epoch 98/100\n",
      "38/38 [==============================] - 4s 98ms/step - loss: 9.3089e-04\n",
      "Epoch 99/100\n"
     ]
    },
    {
     "name": "stdout",
     "output_type": "stream",
     "text": [
      "38/38 [==============================] - 4s 101ms/step - loss: 7.7836e-04\n",
      "Epoch 100/100\n",
      "38/38 [==============================] - 4s 93ms/step - loss: 7.7537e-04\n"
     ]
    },
    {
     "data": {
      "text/plain": [
       "<tensorflow.python.keras.callbacks.History at 0x26ced9c5310>"
      ]
     },
     "execution_count": 17,
     "metadata": {},
     "output_type": "execute_result"
    }
   ],
   "source": [
    "# Compiling the RNN\n",
    "regressor.compile(optimizer = 'adam', loss = 'mean_squared_error')\n",
    "\n",
    "# Fitting the RNN to the Training set\n",
    "regressor.fit(X_train, y_train, epochs = 100, batch_size = 32)\n"
   ]
  },
  {
   "cell_type": "code",
   "execution_count": 18,
   "metadata": {},
   "outputs": [],
   "source": [
    "# Part 3 - Making the predictions and visualising the results\n",
    "\n",
    "# Getting the real stock price of 2017\n",
    "dataset_test = pd.read_csv('20200905_HINDUSTAN UNILEVER LTD_1day.csv',index_col=\"DisplayDate\",parse_dates=True)\n",
    "\n"
   ]
  },
  {
   "cell_type": "code",
   "execution_count": 19,
   "metadata": {},
   "outputs": [],
   "source": [
    "real_stock_price = dataset_test.iloc[:, 1:2].values"
   ]
  },
  {
   "cell_type": "code",
   "execution_count": 20,
   "metadata": {},
   "outputs": [
    {
     "data": {
      "text/html": [
       "<div>\n",
       "<style scoped>\n",
       "    .dataframe tbody tr th:only-of-type {\n",
       "        vertical-align: middle;\n",
       "    }\n",
       "\n",
       "    .dataframe tbody tr th {\n",
       "        vertical-align: top;\n",
       "    }\n",
       "\n",
       "    .dataframe thead th {\n",
       "        text-align: right;\n",
       "    }\n",
       "</style>\n",
       "<table border=\"1\" class=\"dataframe\">\n",
       "  <thead>\n",
       "    <tr style=\"text-align: right;\">\n",
       "      <th></th>\n",
       "      <th>Open</th>\n",
       "      <th>High</th>\n",
       "      <th>Low</th>\n",
       "      <th>Close</th>\n",
       "      <th>Volume</th>\n",
       "      <th>OI</th>\n",
       "    </tr>\n",
       "    <tr>\n",
       "      <th>DisplayDate</th>\n",
       "      <th></th>\n",
       "      <th></th>\n",
       "      <th></th>\n",
       "      <th></th>\n",
       "      <th></th>\n",
       "      <th></th>\n",
       "    </tr>\n",
       "  </thead>\n",
       "  <tbody>\n",
       "    <tr>\n",
       "      <th>2020-09-04</th>\n",
       "      <td>2115.00</td>\n",
       "      <td>2139.05</td>\n",
       "      <td>2115.00</td>\n",
       "      <td>2131.00</td>\n",
       "      <td>1619906</td>\n",
       "      <td>0</td>\n",
       "    </tr>\n",
       "    <tr>\n",
       "      <th>2020-09-03</th>\n",
       "      <td>2153.00</td>\n",
       "      <td>2154.45</td>\n",
       "      <td>2128.05</td>\n",
       "      <td>2139.15</td>\n",
       "      <td>1590711</td>\n",
       "      <td>0</td>\n",
       "    </tr>\n",
       "    <tr>\n",
       "      <th>2020-09-02</th>\n",
       "      <td>2171.00</td>\n",
       "      <td>2185.00</td>\n",
       "      <td>2136.55</td>\n",
       "      <td>2141.65</td>\n",
       "      <td>1667810</td>\n",
       "      <td>0</td>\n",
       "    </tr>\n",
       "    <tr>\n",
       "      <th>2020-09-01</th>\n",
       "      <td>2149.95</td>\n",
       "      <td>2174.90</td>\n",
       "      <td>2111.75</td>\n",
       "      <td>2161.65</td>\n",
       "      <td>1738013</td>\n",
       "      <td>0</td>\n",
       "    </tr>\n",
       "    <tr>\n",
       "      <th>2020-08-31</th>\n",
       "      <td>2152.00</td>\n",
       "      <td>2167.50</td>\n",
       "      <td>2100.65</td>\n",
       "      <td>2117.35</td>\n",
       "      <td>3534525</td>\n",
       "      <td>0</td>\n",
       "    </tr>\n",
       "  </tbody>\n",
       "</table>\n",
       "</div>"
      ],
      "text/plain": [
       "                Open     High      Low    Close   Volume  OI\n",
       "DisplayDate                                                 \n",
       "2020-09-04   2115.00  2139.05  2115.00  2131.00  1619906   0\n",
       "2020-09-03   2153.00  2154.45  2128.05  2139.15  1590711   0\n",
       "2020-09-02   2171.00  2185.00  2136.55  2141.65  1667810   0\n",
       "2020-09-01   2149.95  2174.90  2111.75  2161.65  1738013   0\n",
       "2020-08-31   2152.00  2167.50  2100.65  2117.35  3534525   0"
      ]
     },
     "execution_count": 20,
     "metadata": {},
     "output_type": "execute_result"
    }
   ],
   "source": [
    "dataset_test.head()"
   ]
  },
  {
   "cell_type": "code",
   "execution_count": 21,
   "metadata": {},
   "outputs": [
    {
     "name": "stdout",
     "output_type": "stream",
     "text": [
      "<class 'pandas.core.frame.DataFrame'>\n",
      "DatetimeIndex: 2649 entries, 2020-09-04 to 2010-01-04\n",
      "Data columns (total 6 columns):\n",
      " #   Column  Non-Null Count  Dtype  \n",
      "---  ------  --------------  -----  \n",
      " 0   Open    2649 non-null   float64\n",
      " 1   High    2649 non-null   float64\n",
      " 2   Low     2649 non-null   float64\n",
      " 3   Close   2649 non-null   float64\n",
      " 4   Volume  2649 non-null   int64  \n",
      " 5   OI      2649 non-null   int64  \n",
      "dtypes: float64(4), int64(2)\n",
      "memory usage: 144.9 KB\n"
     ]
    }
   ],
   "source": [
    "dataset_test.info()"
   ]
  },
  {
   "cell_type": "code",
   "execution_count": 32,
   "metadata": {},
   "outputs": [],
   "source": [
    "dataset_test[\"Volume\"] = dataset_test[\"Volume\"].astype(float)"
   ]
  },
  {
   "cell_type": "code",
   "execution_count": 33,
   "metadata": {},
   "outputs": [],
   "source": [
    "test_set=dataset_test['Open']\n",
    "test_set=pd.DataFrame(test_set)"
   ]
  },
  {
   "cell_type": "code",
   "execution_count": 34,
   "metadata": {},
   "outputs": [
    {
     "name": "stdout",
     "output_type": "stream",
     "text": [
      "<class 'pandas.core.frame.DataFrame'>\n",
      "DatetimeIndex: 2649 entries, 2020-09-04 to 2010-01-04\n",
      "Data columns (total 1 columns):\n",
      " #   Column  Non-Null Count  Dtype  \n",
      "---  ------  --------------  -----  \n",
      " 0   Open    2649 non-null   float64\n",
      "dtypes: float64(1)\n",
      "memory usage: 41.4 KB\n"
     ]
    }
   ],
   "source": [
    "test_set.info()"
   ]
  },
  {
   "cell_type": "code",
   "execution_count": 35,
   "metadata": {},
   "outputs": [],
   "source": [
    "# Getting the predicted stock price of 2017\n",
    "dataset_total = pd.concat((dataset['Open'], dataset_test['Open']), axis = 0)\n",
    "inputs = dataset_total[len(dataset_total) - len(dataset_test) - 60:].values\n",
    "inputs = inputs.reshape(-1,1)\n",
    "inputs = sc.transform(inputs)\n",
    "X_test = []\n",
    "for i in range(60, 80):\n",
    "    X_test.append(inputs[i-60:i, 0])\n",
    "X_test = np.array(X_test)\n",
    "X_test = np.reshape(X_test, (X_test.shape[0], X_test.shape[1], 1))\n",
    "predicted_stock_price = regressor.predict(X_test)\n",
    "predicted_stock_price = sc.inverse_transform(predicted_stock_price)"
   ]
  },
  {
   "cell_type": "code",
   "execution_count": 36,
   "metadata": {},
   "outputs": [
    {
     "name": "stdout",
     "output_type": "stream",
     "text": [
      "<class 'pandas.core.frame.DataFrame'>\n",
      "RangeIndex: 20 entries, 0 to 19\n",
      "Data columns (total 1 columns):\n",
      " #   Column  Non-Null Count  Dtype  \n",
      "---  ------  --------------  -----  \n",
      " 0   0       20 non-null     float32\n",
      "dtypes: float32(1)\n",
      "memory usage: 208.0 bytes\n"
     ]
    }
   ],
   "source": [
    "predicted_stock_price=pd.DataFrame(predicted_stock_price)\n",
    "predicted_stock_price.info()"
   ]
  },
  {
   "cell_type": "code",
   "execution_count": 37,
   "metadata": {},
   "outputs": [
    {
     "data": {
      "image/png": "[encoded data removed]",
      "text/plain": [
       "<Figure size 1008x360 with 1 Axes>"
      ]
     },
     "metadata": {
      "needs_background": "light"
     },
     "output_type": "display_data"
    }
   ],
   "source": [
    "\n",
    "# Visualising the results\n",
    "plt.figure(figsize=(14,5))\n",
    "plt.plot(real_stock_price, color = 'red', label = 'Real HINDUSTAN UNILEVER LTD Stock Price')\n",
    "plt.plot(predicted_stock_price, color = 'blue', label = 'Predicted HINDUSTAN UNILEVER LTD Stock Price')\n",
    "plt.title('HINDUSTAN UNILEVER LTD Stock Price Prediction')\n",
    "plt.xlabel('Time')\n",
    "plt.ylabel('HINDUSTAN UNILEVER LTD Stock Price')\n",
    "plt.legend()\n",
    "plt.show()\n"
   ]
  }
 ],
 "metadata": {
  "kernelspec": {
   "display_name": "Python 3",
   "language": "python",
   "name": "python3"
  },
  "language_info": {
   "codemirror_mode": {
    "name": "ipython",
    "version": 3
   },
   "file_extension": ".py",
   "mimetype": "text/x-python",
   "name": "python",
   "nbconvert_exporter": "python",
   "pygments_lexer": "ipython3",
   "version": "3.8.3"
  }
 },
 "nbformat": 4,
 "nbformat_minor": 4
}
